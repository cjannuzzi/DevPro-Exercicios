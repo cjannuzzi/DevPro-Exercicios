{
  "nbformat": 4,
  "nbformat_minor": 0,
  "metadata": {
    "colab": {
      "name": "DesafioDevPro.ipynb",
      "provenance": [],
      "collapsed_sections": [],
      "authorship_tag": "ABX9TyP+S84t/Oi7H2tRctBDdKtX",
      "include_colab_link": true
    },
    "kernelspec": {
      "name": "python3",
      "display_name": "Python 3"
    },
    "language_info": {
      "name": "python"
    }
  },
  "cells": [
    {
      "cell_type": "markdown",
      "metadata": {
        "id": "view-in-github",
        "colab_type": "text"
      },
      "source": [
        "<a href=\"https://colab.research.google.com/github/cjannuzzi/DevPro-Exercicios-Estrt_Sequencial/blob/main/DesafioDevPro.ipynb\" target=\"_parent\"><img src=\"https://colab.research.google.com/assets/colab-badge.svg\" alt=\"Open In Colab\"/></a>"
      ]
    },
    {
      "cell_type": "code",
      "execution_count": null,
      "metadata": {
        "id": "IxEV51qp-wWK"
      },
      "outputs": [],
      "source": [
        ""
      ]
    },
    {
      "cell_type": "markdown",
      "source": [
        "# Desafio Devpro"
      ],
      "metadata": {
        "id": "aM5XaJgH_N2l"
      }
    },
    {
      "cell_type": "markdown",
      "source": [
        "Nesse notebook vamos resolver vários exercícios da [lista Python Brasil](https://wiki.python.org.br/ListaDeExercicios/)"
      ],
      "metadata": {
        "id": "8r3897WM_eqT"
      }
    },
    {
      "cell_type": "markdown",
      "source": [
        "# [Estrutura Sequencial ](https://wiki.python.org.br/EstruturaSequencial)"
      ],
      "metadata": {
        "id": "C4KTLDXDMb3_"
      }
    },
    {
      "cell_type": "markdown",
      "source": [
        "Exercício 1 - Faça um Programa que mostre a mensagem \"Alo mundo\" na tela.\n"
      ],
      "metadata": {
        "id": "jC3o3AE2NPn7"
      }
    },
    {
      "cell_type": "code",
      "source": [
        "print ('Alo mundo')"
      ],
      "metadata": {
        "colab": {
          "base_uri": "https://localhost:8080/"
        },
        "id": "lpqilGV-_Re-",
        "outputId": "a52dbeed-f8f1-4b63-ea53-daa63390eabf"
      },
      "execution_count": null,
      "outputs": [
        {
          "output_type": "stream",
          "name": "stdout",
          "text": [
            "Alo mundo\n"
          ]
        }
      ]
    },
    {
      "cell_type": "markdown",
      "source": [
        "Exercício 2 - Faça um Programa que peça um número e então mostre a mensagem O número informado foi [número]."
      ],
      "metadata": {
        "id": "DgIbbjmANwD4"
      }
    },
    {
      "cell_type": "code",
      "source": [
        "numero = 5\n",
        "print (f\"O número informado é {numero}\")"
      ],
      "metadata": {
        "colab": {
          "base_uri": "https://localhost:8080/"
        },
        "id": "5rG-B7svN7Nc",
        "outputId": "6669191e-7af3-4505-956b-4adecea6318f"
      },
      "execution_count": null,
      "outputs": [
        {
          "output_type": "stream",
          "name": "stdout",
          "text": [
            "O número informado é 5\n"
          ]
        }
      ]
    },
    {
      "cell_type": "code",
      "source": [
        "numero = input ('Digite um número: ')\n",
        "print (f'O numero informado foi {numero}')"
      ],
      "metadata": {
        "colab": {
          "base_uri": "https://localhost:8080/"
        },
        "id": "OKOaMjeFOisE",
        "outputId": "fb673ff0-d7a1-402e-91b8-a3b421620466"
      },
      "execution_count": null,
      "outputs": [
        {
          "output_type": "stream",
          "name": "stdout",
          "text": [
            "Digite um número: 88\n",
            "O numero informado foi 88\n"
          ]
        }
      ]
    },
    {
      "cell_type": "markdown",
      "source": [
        "Exercício 3 - Faça um Programa que peça dois números e imprima a soma.\n"
      ],
      "metadata": {
        "id": "gSGpSdzKOU9F"
      }
    },
    {
      "cell_type": "code",
      "source": [
        "n1 = int(input ('Digite o 1º número '))\n",
        "n2 = int(input ('Digite o 2º número '))\n",
        "soma = n1+n2\n",
        "print(f'A soma dos dois números é {soma}')"
      ],
      "metadata": {
        "colab": {
          "base_uri": "https://localhost:8080/"
        },
        "id": "TDoj7Z1gOXfE",
        "outputId": "7b1f75d2-f3f6-4dd8-e02c-72b35eafe464"
      },
      "execution_count": null,
      "outputs": [
        {
          "output_type": "stream",
          "name": "stdout",
          "text": [
            "Digite o 1º número 20\n",
            "Digite o 2º número 30\n",
            "A soma dos dois números é 50\n"
          ]
        }
      ]
    },
    {
      "cell_type": "markdown",
      "source": [
        "Exercício 4 - Faça um Programa que peça as 4 notas bimestrais e mostre a média."
      ],
      "metadata": {
        "id": "_S2VSSNgQc3f"
      }
    },
    {
      "cell_type": "code",
      "source": [
        "nota1 = float(input ('Digite a nota do 1º bimestre '))\n",
        "nota2 = float(input ('Digite a nota do 2º bimestre  '))\n",
        "nota3 = float(input ('Digite a nota do 3º bimestre  '))\n",
        "nota4 = float(input ('Digite a nota do 4º bimestre  '))\n",
        "media = (nota1 + nota2 + nota3 + nota4)/4\n",
        "print(f'A média é {media}')"
      ],
      "metadata": {
        "colab": {
          "base_uri": "https://localhost:8080/"
        },
        "id": "wUkcMqtVQjod",
        "outputId": "08fc4417-24fc-40df-a178-d007f0571f69"
      },
      "execution_count": null,
      "outputs": [
        {
          "output_type": "stream",
          "name": "stdout",
          "text": [
            "Digite a nota do 1º bimestre 7.5\n",
            "Digite a nota do 2º bimestre  10\n",
            "Digite a nota do 3º bimestre  6.5\n",
            "Digite a nota do 4º bimestre  8.5\n",
            "A média é 8.125\n"
          ]
        }
      ]
    },
    {
      "cell_type": "markdown",
      "source": [
        "Exercício 5 - Faça um Programa que converta metros para centímetros."
      ],
      "metadata": {
        "id": "d-44m4XJS1KH"
      }
    },
    {
      "cell_type": "code",
      "source": [
        "convert_m_em_cm = float(input ('Digite o valor em METROS a ser convertido '))\n",
        "conv = convert_m_em_cm*100\n",
        "print (f'O valor em centimetros é de {conv}')"
      ],
      "metadata": {
        "colab": {
          "base_uri": "https://localhost:8080/"
        },
        "id": "3enzgYWaS4LT",
        "outputId": "a9a4a80e-459b-4f5e-ad31-0a6e0826871c"
      },
      "execution_count": null,
      "outputs": [
        {
          "output_type": "stream",
          "name": "stdout",
          "text": [
            "Digite o valor em METROS a ser convertido 1\n",
            "O valor em centimetros é de 100.0\n"
          ]
        }
      ]
    },
    {
      "cell_type": "markdown",
      "source": [
        "Exercício 6 - Faça um Programa que peça o raio de um círculo, calcule e mostre sua área."
      ],
      "metadata": {
        "id": "k-aJ33WITzl_"
      }
    },
    {
      "cell_type": "code",
      "source": [
        "raio = float(input('Digite o raio em cm '))\n",
        "calc_area = 3.14*(raio**2)\n",
        "print(f'A área do circulo é de {calc_area} cm²')"
      ],
      "metadata": {
        "colab": {
          "base_uri": "https://localhost:8080/"
        },
        "id": "nqJHhj89T4Wf",
        "outputId": "f4593152-ec9f-423e-a3ec-279b5278753c"
      },
      "execution_count": null,
      "outputs": [
        {
          "output_type": "stream",
          "name": "stdout",
          "text": [
            "Digite o raio em cm 2\n",
            "A área do circulo é de 12.56 cm²\n"
          ]
        }
      ]
    },
    {
      "cell_type": "markdown",
      "source": [
        "Exercício 7 - Faça um Programa que calcule a área de um quadrado, em seguida mostre o dobro desta área para o usuário.\n"
      ],
      "metadata": {
        "id": "5g2tieGdUeTe"
      }
    },
    {
      "cell_type": "code",
      "source": [
        "lado_quad = float(input('Digite um lado do quadrado '))\n",
        "area_quadr= (lado_quad**2)*2\n",
        "print (f'O dobro da área do quadrado é de {area_quadr} m²')"
      ],
      "metadata": {
        "colab": {
          "base_uri": "https://localhost:8080/"
        },
        "id": "J8mXsuR0UpPE",
        "outputId": "7b46d7f6-e0f3-439c-e589-405f2687d886"
      },
      "execution_count": null,
      "outputs": [
        {
          "output_type": "stream",
          "name": "stdout",
          "text": [
            "Digite um lado do quadrado 2\n",
            "O dobro da área do quadrado é de 8.0 m²\n"
          ]
        }
      ]
    },
    {
      "cell_type": "markdown",
      "source": [
        "Exercício 8 - Faça um Programa que pergunte quanto você ganha por hora e o número de horas trabalhadas no mês. Calcule e mostre o total do seu salário no referido mês."
      ],
      "metadata": {
        "id": "tX3qg-8HVZwP"
      }
    },
    {
      "cell_type": "code",
      "source": [
        "qtd_hora_remu = float(input('Quanto vc ganhar por hora trabalhada ? '))\n",
        "qtd_horas_trab = float(input('Quantas horas vc trabalha por mês? '))\n",
        "salario = float (qtd_hora_remu*qtd_horas_trab)\n",
        "print (f'O total do seu salário no referido mês é de R${salario} reais')"
      ],
      "metadata": {
        "colab": {
          "base_uri": "https://localhost:8080/"
        },
        "id": "SNi1L2svVp-0",
        "outputId": "1b3d6c53-48f2-4de4-cec5-9e5f4ed4fe65"
      },
      "execution_count": null,
      "outputs": [
        {
          "output_type": "stream",
          "name": "stdout",
          "text": [
            "Quanto vc ganhar por hora trabalhada ? 10\n",
            "Quantas horas vc trabalha por mês? 100\n",
            "O total do seu salário no referido mês é de R$1000.0 reais\n"
          ]
        }
      ]
    },
    {
      "cell_type": "markdown",
      "source": [
        "Exercício 9 - Faça um Programa que peça a temperatura em graus Fahrenheit, transforme e mostre a temperatura em graus Celsius.\n",
        "C = 5 * ((F-32) / 9)."
      ],
      "metadata": {
        "id": "9pRXgKbHXBjp"
      }
    },
    {
      "cell_type": "code",
      "source": [
        "temp_f = float(input('Qual a temperatura em Fahrenheit? '))\n",
        "temp_c = 5 * ((temp_f -32) / 9)\n",
        "print(f'A temperatura em Celsius é de {temp_c} °C')"
      ],
      "metadata": {
        "colab": {
          "base_uri": "https://localhost:8080/"
        },
        "id": "iUx3t1pMXLJs",
        "outputId": "8204c02c-930a-4940-ce0b-04538780eff8"
      },
      "execution_count": null,
      "outputs": [
        {
          "output_type": "stream",
          "name": "stdout",
          "text": [
            "Qual a temperatura em Fahrenheit? 200\n",
            "A temperatura em Celsius é de 93.33333333333334 °C\n"
          ]
        }
      ]
    },
    {
      "cell_type": "markdown",
      "source": [
        "Exercício 10 - Faça um Programa que peça a temperatura em graus Celsius, transforme e mostre em graus Fahrenheit."
      ],
      "metadata": {
        "id": "H-oj_L4XYOB0"
      }
    },
    {
      "cell_type": "code",
      "source": [
        "temp_c = float(input('Qual a temperatura em Celsius? '))\n",
        "temp_f = temp_c*(9/5)+32\n",
        "print(f'A temperatura em Fahrenheit é de {temp_f} °F')"
      ],
      "metadata": {
        "colab": {
          "base_uri": "https://localhost:8080/"
        },
        "id": "BrQi2WaDYVqh",
        "outputId": "d966bdf5-8fc1-4dfb-8c04-d2e6214d63ea"
      },
      "execution_count": null,
      "outputs": [
        {
          "output_type": "stream",
          "name": "stdout",
          "text": [
            "Qual a temperatura em Celsius? 1\n",
            "A temperatura em Fahrenheit é de 33.8 °F\n"
          ]
        }
      ]
    },
    {
      "cell_type": "markdown",
      "source": [
        "Exercício 11 - Faça um Programa que peça 2 números inteiros e um número real. Calcule e mostre:\n",
        "* o produto do dobro do primeiro com metade do segundo .\n",
        "* a soma do triplo do primeiro com o terceiro.\n",
        "* o terceiro elevado ao cubo.\n",
        "\n"
      ],
      "metadata": {
        "id": "kUAR7C4keW2o"
      }
    },
    {
      "cell_type": "code",
      "source": [
        "n_1 = int (input ('Digite um número inteiro '))\n",
        "n_2 = int (input ('Digite outro número inteiro  '))\n",
        "n_3 = float(input ('Digite um número real  '))\n",
        "\n",
        "r1 = (n_1*2) + (n_2/2)\n",
        "r2 = (3*n_1) + n_3\n",
        "r3 = n_3**3\n",
        "\n",
        "print(f'o produto do dobro do primeiro com metade do segundo é {r1}')\n",
        "print(f'a soma do triplo do primeiro com o terceiro é {r2}')\n",
        "print(f'o terceiro elevado ao cubo é {r3}')"
      ],
      "metadata": {
        "colab": {
          "base_uri": "https://localhost:8080/"
        },
        "id": "q1s-fvQAfH_C",
        "outputId": "bd87e3ab-fcf5-47ee-bdbd-cf6c096627bc"
      },
      "execution_count": null,
      "outputs": [
        {
          "output_type": "stream",
          "name": "stdout",
          "text": [
            "Digite um número inteiro 2\n",
            "Digite outro número inteiro  3\n",
            "Digite um número real  2.2\n",
            "o produto do dobro do primeiro com metade do segundo é 5.5\n",
            "a soma do triplo do primeiro com o terceiro é 8.2\n",
            "o terceiro elevado ao cubo é 10.648000000000003\n"
          ]
        }
      ]
    },
    {
      "cell_type": "markdown",
      "source": [
        "Exercício 12 - Tendo como dados de entrada a altura de uma pessoa, construa um algoritmo que calcule seu peso ideal, usando a seguinte fórmula: (72.7*altura) - 58\n"
      ],
      "metadata": {
        "id": "mxB8TC2wgn1H"
      }
    },
    {
      "cell_type": "code",
      "source": [
        "n_alt = float(input ('Digite sua altura em metros '))\n",
        "peso_ideal = (72.7*n_alt)-58\n",
        "print(f'O peso ideal é {peso_ideal}') "
      ],
      "metadata": {
        "colab": {
          "base_uri": "https://localhost:8080/"
        },
        "id": "kMyUoGP1guTF",
        "outputId": "a82e642b-a46c-4c86-fc51-a2b82b8c4e3c"
      },
      "execution_count": null,
      "outputs": [
        {
          "output_type": "stream",
          "name": "stdout",
          "text": [
            "Digite sua altura em metros 1.86\n",
            "O peso ideal é 77.22200000000001\n"
          ]
        }
      ]
    },
    {
      "cell_type": "markdown",
      "source": [
        "Exercício 13 - Tendo como dado de entrada a altura (h) de uma pessoa, construa um algoritmo que calcule seu peso ideal, utilizando as seguintes fórmulas:\n",
        "* Para homens: (72.7*h) - 58\n",
        "* Para mulheres: (62.1*h) - 44.7"
      ],
      "metadata": {
        "id": "eF5sGxiXh6Z0"
      }
    },
    {
      "cell_type": "code",
      "source": [
        "sexo = (input('Qual seu sexo? Digite H ou M: '))\n",
        "if sexo.upper() == 'H': \n",
        "    n_alt = float(input ('Digite sua altura em metros '))\n",
        "    peso_ideal_homem = (72.7*n_alt)-58\n",
        "    print(f'O peso ideal é {peso_ideal_homem}') \n",
        "\n",
        "\n",
        "elif sexo.upper() == 'M': \n",
        "    n_alt = float(input ('Digite sua altura em metros '))\n",
        "    peso_ideal_mulher = (62.1*n_alt)-44.7\n",
        "    print(f'O peso ideal é {peso_ideal_mulher}')\n",
        "else:\n",
        "  print('Se vc não é homem e nem mulher..então q vc é?!') \n",
        "\n"
      ],
      "metadata": {
        "colab": {
          "base_uri": "https://localhost:8080/"
        },
        "id": "RDp5VGBfiKEd",
        "outputId": "5d4a9cd7-ed1b-4e11-c749-202336ab3e79"
      },
      "execution_count": null,
      "outputs": [
        {
          "output_type": "stream",
          "name": "stdout",
          "text": [
            "Qual seu sexo? Digite H ou M: m\n",
            "Digite sua altura em metros 1.56\n",
            "O peso ideal é 52.176\n"
          ]
        }
      ]
    },
    {
      "cell_type": "markdown",
      "source": [
        "Exercício 14 - João Papo-de-Pescador, homem de bem, comprou um microcomputador para controlar o rendimento diário de seu trabalho. Toda vez que ele traz um peso de peixes maior que o estabelecido pelo regulamento de pesca do estado de São Paulo (50 quilos) deve pagar uma multa de R$ 4,00 por quilo excedente. João precisa que você faça um programa que leia a variável peso (peso de peixes) e calcule o excesso. Gravar na variável excesso a quantidade de quilos além do limite e na variável multa o valor da multa que João deverá pagar. Imprima os dados do programa com as mensagens adequadas."
      ],
      "metadata": {
        "id": "Y7NJgj2wmTlq"
      }
    },
    {
      "cell_type": "code",
      "source": [
        "peso_peixe = float(input('Qual o peso do peixe? '))\n",
        "excesso = -50 + peso_peixe\n",
        "multa = excesso*4\n",
        "\n",
        "if peso_peixe >50:\n",
        "  excesso\n",
        "  multa\n",
        "  print(f'Peso além do limite permitido, o excesso foi de {excesso} kg e a multa correspondente será de R${multa} reais.')\n",
        "elif peso_peixe <= 50:\n",
        "  print(f'Peso do peixe dentro do regulamento de pesca')"
      ],
      "metadata": {
        "colab": {
          "base_uri": "https://localhost:8080/"
        },
        "id": "7yq2gctHYCGj",
        "outputId": "42e2e3c3-e2e6-46ef-b6b5-14e79c80bd92"
      },
      "execution_count": 7,
      "outputs": [
        {
          "output_type": "stream",
          "name": "stdout",
          "text": [
            "Qual o peso do peixe? 51\n",
            "Peso além do limite permitido, o excesso foi de 1.0 kg e a multa correspondente será de R$4.0 reais.\n"
          ]
        }
      ]
    }
  ]
}