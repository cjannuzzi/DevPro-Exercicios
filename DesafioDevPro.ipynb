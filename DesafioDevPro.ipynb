{
  "nbformat": 4,
  "nbformat_minor": 0,
  "metadata": {
    "colab": {
      "name": "DesafioDevPro.ipynb",
      "provenance": [],
      "collapsed_sections": [],
      "authorship_tag": "ABX9TyNlIdUbGIsXn1jnUTZJwhPS",
      "include_colab_link": true
    },
    "kernelspec": {
      "name": "python3",
      "display_name": "Python 3"
    },
    "language_info": {
      "name": "python"
    }
  },
  "cells": [
    {
      "cell_type": "markdown",
      "metadata": {
        "id": "view-in-github",
        "colab_type": "text"
      },
      "source": [
        "<a href=\"https://colab.research.google.com/github/cjannuzzi/DevPro-Exercicios/blob/main/DesafioDevPro.ipynb\" target=\"_parent\"><img src=\"https://colab.research.google.com/assets/colab-badge.svg\" alt=\"Open In Colab\"/></a>"
      ]
    },
    {
      "cell_type": "code",
      "execution_count": null,
      "metadata": {
        "id": "IxEV51qp-wWK"
      },
      "outputs": [],
      "source": [
        ""
      ]
    },
    {
      "cell_type": "markdown",
      "source": [
        "# Desafio Devpro"
      ],
      "metadata": {
        "id": "aM5XaJgH_N2l"
      }
    },
    {
      "cell_type": "markdown",
      "source": [
        "Nesse notebook vamos resolver vários exercícios da [lista Python Brasil](https://wiki.python.org.br/ListaDeExercicios/)"
      ],
      "metadata": {
        "id": "8r3897WM_eqT"
      }
    },
    {
      "cell_type": "markdown",
      "source": [
        "# [Estrutura Sequencial ](https://wiki.python.org.br/EstruturaSequencial)"
      ],
      "metadata": {
        "id": "C4KTLDXDMb3_"
      }
    },
    {
      "cell_type": "markdown",
      "source": [
        "Exercício 1 - Faça um Programa que mostre a mensagem \"Alo mundo\" na tela.\n"
      ],
      "metadata": {
        "id": "jC3o3AE2NPn7"
      }
    },
    {
      "cell_type": "code",
      "source": [
        "print ('Alo mundo')"
      ],
      "metadata": {
        "colab": {
          "base_uri": "https://localhost:8080/"
        },
        "id": "lpqilGV-_Re-",
        "outputId": "a52dbeed-f8f1-4b63-ea53-daa63390eabf"
      },
      "execution_count": null,
      "outputs": [
        {
          "output_type": "stream",
          "name": "stdout",
          "text": [
            "Alo mundo\n"
          ]
        }
      ]
    },
    {
      "cell_type": "markdown",
      "source": [
        "Exercício 2 - Faça um Programa que peça um número e então mostre a mensagem O número informado foi [número]."
      ],
      "metadata": {
        "id": "DgIbbjmANwD4"
      }
    },
    {
      "cell_type": "code",
      "source": [
        "numero = 5\n",
        "print (f\"O número informado é {numero}\")"
      ],
      "metadata": {
        "colab": {
          "base_uri": "https://localhost:8080/"
        },
        "id": "5rG-B7svN7Nc",
        "outputId": "6669191e-7af3-4505-956b-4adecea6318f"
      },
      "execution_count": null,
      "outputs": [
        {
          "output_type": "stream",
          "name": "stdout",
          "text": [
            "O número informado é 5\n"
          ]
        }
      ]
    },
    {
      "cell_type": "code",
      "source": [
        "numero = input ('Digite um número: ')\n",
        "print (f'O numero informado foi {numero}')"
      ],
      "metadata": {
        "colab": {
          "base_uri": "https://localhost:8080/"
        },
        "id": "OKOaMjeFOisE",
        "outputId": "fb673ff0-d7a1-402e-91b8-a3b421620466"
      },
      "execution_count": null,
      "outputs": [
        {
          "output_type": "stream",
          "name": "stdout",
          "text": [
            "Digite um número: 88\n",
            "O numero informado foi 88\n"
          ]
        }
      ]
    },
    {
      "cell_type": "markdown",
      "source": [
        "Exercício 3 - Faça um Programa que peça dois números e imprima a soma.\n"
      ],
      "metadata": {
        "id": "gSGpSdzKOU9F"
      }
    },
    {
      "cell_type": "code",
      "source": [
        "n1 = int(input ('Digite o 1º número '))\n",
        "n2 = int(input ('Digite o 2º número '))\n",
        "soma = n1+n2\n",
        "print(f'A soma dos dois números é {soma}')"
      ],
      "metadata": {
        "colab": {
          "base_uri": "https://localhost:8080/"
        },
        "id": "TDoj7Z1gOXfE",
        "outputId": "7b1f75d2-f3f6-4dd8-e02c-72b35eafe464"
      },
      "execution_count": null,
      "outputs": [
        {
          "output_type": "stream",
          "name": "stdout",
          "text": [
            "Digite o 1º número 20\n",
            "Digite o 2º número 30\n",
            "A soma dos dois números é 50\n"
          ]
        }
      ]
    },
    {
      "cell_type": "markdown",
      "source": [
        "Exercício 4 - Faça um Programa que peça as 4 notas bimestrais e mostre a média."
      ],
      "metadata": {
        "id": "_S2VSSNgQc3f"
      }
    },
    {
      "cell_type": "code",
      "source": [
        "nota1 = float(input ('Digite a nota do 1º bimestre '))\n",
        "nota2 = float(input ('Digite a nota do 2º bimestre  '))\n",
        "nota3 = float(input ('Digite a nota do 3º bimestre  '))\n",
        "nota4 = float(input ('Digite a nota do 4º bimestre  '))\n",
        "media = (nota1 + nota2 + nota3 + nota4)/4\n",
        "print(f'A média é {media}')"
      ],
      "metadata": {
        "colab": {
          "base_uri": "https://localhost:8080/"
        },
        "id": "wUkcMqtVQjod",
        "outputId": "08fc4417-24fc-40df-a178-d007f0571f69"
      },
      "execution_count": null,
      "outputs": [
        {
          "output_type": "stream",
          "name": "stdout",
          "text": [
            "Digite a nota do 1º bimestre 7.5\n",
            "Digite a nota do 2º bimestre  10\n",
            "Digite a nota do 3º bimestre  6.5\n",
            "Digite a nota do 4º bimestre  8.5\n",
            "A média é 8.125\n"
          ]
        }
      ]
    },
    {
      "cell_type": "markdown",
      "source": [
        "Exercício 5 - Faça um Programa que converta metros para centímetros."
      ],
      "metadata": {
        "id": "d-44m4XJS1KH"
      }
    },
    {
      "cell_type": "code",
      "source": [
        "convert_m_em_cm = float(input ('Digite o valor em METROS a ser convertido '))\n",
        "conv = convert_m_em_cm*100\n",
        "print (f'O valor em centimetros é de {conv}')"
      ],
      "metadata": {
        "colab": {
          "base_uri": "https://localhost:8080/"
        },
        "id": "3enzgYWaS4LT",
        "outputId": "a9a4a80e-459b-4f5e-ad31-0a6e0826871c"
      },
      "execution_count": null,
      "outputs": [
        {
          "output_type": "stream",
          "name": "stdout",
          "text": [
            "Digite o valor em METROS a ser convertido 1\n",
            "O valor em centimetros é de 100.0\n"
          ]
        }
      ]
    },
    {
      "cell_type": "markdown",
      "source": [
        "Exercício 6 - Faça um Programa que peça o raio de um círculo, calcule e mostre sua área."
      ],
      "metadata": {
        "id": "k-aJ33WITzl_"
      }
    },
    {
      "cell_type": "code",
      "source": [
        "raio = float(input('Digite o raio em cm '))\n",
        "calc_area = 3.14*(raio**2)\n",
        "print(f'A área do circulo é de {calc_area} cm²')"
      ],
      "metadata": {
        "colab": {
          "base_uri": "https://localhost:8080/"
        },
        "id": "nqJHhj89T4Wf",
        "outputId": "f4593152-ec9f-423e-a3ec-279b5278753c"
      },
      "execution_count": null,
      "outputs": [
        {
          "output_type": "stream",
          "name": "stdout",
          "text": [
            "Digite o raio em cm 2\n",
            "A área do circulo é de 12.56 cm²\n"
          ]
        }
      ]
    },
    {
      "cell_type": "markdown",
      "source": [
        "Exercício 7 - Faça um Programa que calcule a área de um quadrado, em seguida mostre o dobro desta área para o usuário.\n"
      ],
      "metadata": {
        "id": "5g2tieGdUeTe"
      }
    },
    {
      "cell_type": "code",
      "source": [
        "lado_quad = float(input('Digite um lado do quadrado '))\n",
        "area_quadr= (lado_quad**2)*2\n",
        "print (f'O dobro da área do quadrado é de {area_quadr} m²')"
      ],
      "metadata": {
        "colab": {
          "base_uri": "https://localhost:8080/"
        },
        "id": "J8mXsuR0UpPE",
        "outputId": "7b46d7f6-e0f3-439c-e589-405f2687d886"
      },
      "execution_count": null,
      "outputs": [
        {
          "output_type": "stream",
          "name": "stdout",
          "text": [
            "Digite um lado do quadrado 2\n",
            "O dobro da área do quadrado é de 8.0 m²\n"
          ]
        }
      ]
    },
    {
      "cell_type": "markdown",
      "source": [
        "Exercício 8 - Faça um Programa que pergunte quanto você ganha por hora e o número de horas trabalhadas no mês. Calcule e mostre o total do seu salário no referido mês."
      ],
      "metadata": {
        "id": "tX3qg-8HVZwP"
      }
    },
    {
      "cell_type": "code",
      "source": [
        "qtd_hora_remu = float(input('Quanto vc ganhar por hora trabalhada ? '))\n",
        "qtd_horas_trab = float(input('Quantas horas vc trabalha por mês? '))\n",
        "salario = float (qtd_hora_remu*qtd_horas_trab)\n",
        "print (f'O total do seu salário no referido mês é de R${salario} reais')"
      ],
      "metadata": {
        "colab": {
          "base_uri": "https://localhost:8080/"
        },
        "id": "SNi1L2svVp-0",
        "outputId": "1b3d6c53-48f2-4de4-cec5-9e5f4ed4fe65"
      },
      "execution_count": null,
      "outputs": [
        {
          "output_type": "stream",
          "name": "stdout",
          "text": [
            "Quanto vc ganhar por hora trabalhada ? 10\n",
            "Quantas horas vc trabalha por mês? 100\n",
            "O total do seu salário no referido mês é de R$1000.0 reais\n"
          ]
        }
      ]
    },
    {
      "cell_type": "markdown",
      "source": [
        "Exercício 9 - Faça um Programa que peça a temperatura em graus Fahrenheit, transforme e mostre a temperatura em graus Celsius.\n",
        "C = 5 * ((F-32) / 9)."
      ],
      "metadata": {
        "id": "9pRXgKbHXBjp"
      }
    },
    {
      "cell_type": "code",
      "source": [
        "temp_f = float(input('Qual a temperatura em Fahrenheit? '))\n",
        "temp_c = 5 * ((temp_f -32) / 9)\n",
        "print(f'A temperatura em Celsius é de {temp_c} °C')"
      ],
      "metadata": {
        "colab": {
          "base_uri": "https://localhost:8080/"
        },
        "id": "iUx3t1pMXLJs",
        "outputId": "8204c02c-930a-4940-ce0b-04538780eff8"
      },
      "execution_count": null,
      "outputs": [
        {
          "output_type": "stream",
          "name": "stdout",
          "text": [
            "Qual a temperatura em Fahrenheit? 200\n",
            "A temperatura em Celsius é de 93.33333333333334 °C\n"
          ]
        }
      ]
    },
    {
      "cell_type": "markdown",
      "source": [
        "Exercício 10 - Faça um Programa que peça a temperatura em graus Celsius, transforme e mostre em graus Fahrenheit."
      ],
      "metadata": {
        "id": "H-oj_L4XYOB0"
      }
    },
    {
      "cell_type": "code",
      "source": [
        "temp_c = float(input('Qual a temperatura em Celsius? '))\n",
        "temp_f = temp_c*(9/5)+32\n",
        "print(f'A temperatura em Fahrenheit é de {temp_f} °F')"
      ],
      "metadata": {
        "colab": {
          "base_uri": "https://localhost:8080/"
        },
        "id": "BrQi2WaDYVqh",
        "outputId": "d966bdf5-8fc1-4dfb-8c04-d2e6214d63ea"
      },
      "execution_count": null,
      "outputs": [
        {
          "output_type": "stream",
          "name": "stdout",
          "text": [
            "Qual a temperatura em Celsius? 1\n",
            "A temperatura em Fahrenheit é de 33.8 °F\n"
          ]
        }
      ]
    },
    {
      "cell_type": "markdown",
      "source": [
        "Exercício 11 - Faça um Programa que peça 2 números inteiros e um número real. Calcule e mostre:\n",
        "* o produto do dobro do primeiro com metade do segundo .\n",
        "* a soma do triplo do primeiro com o terceiro.\n",
        "* o terceiro elevado ao cubo.\n",
        "\n"
      ],
      "metadata": {
        "id": "kUAR7C4keW2o"
      }
    },
    {
      "cell_type": "code",
      "source": [
        "n_1 = int (input ('Digite um número inteiro '))\n",
        "n_2 = int (input ('Digite outro número inteiro  '))\n",
        "n_3 = float(input ('Digite um número real  '))\n",
        "\n",
        "r1 = (n_1*2) + (n_2/2)\n",
        "r2 = (3*n_1) + n_3\n",
        "r3 = n_3**3\n",
        "\n",
        "print(f'o produto do dobro do primeiro com metade do segundo é {r1}')\n",
        "print(f'a soma do triplo do primeiro com o terceiro é {r2}')\n",
        "print(f'o terceiro elevado ao cubo é {r3}')"
      ],
      "metadata": {
        "colab": {
          "base_uri": "https://localhost:8080/"
        },
        "id": "q1s-fvQAfH_C",
        "outputId": "bd87e3ab-fcf5-47ee-bdbd-cf6c096627bc"
      },
      "execution_count": null,
      "outputs": [
        {
          "output_type": "stream",
          "name": "stdout",
          "text": [
            "Digite um número inteiro 2\n",
            "Digite outro número inteiro  3\n",
            "Digite um número real  2.2\n",
            "o produto do dobro do primeiro com metade do segundo é 5.5\n",
            "a soma do triplo do primeiro com o terceiro é 8.2\n",
            "o terceiro elevado ao cubo é 10.648000000000003\n"
          ]
        }
      ]
    },
    {
      "cell_type": "markdown",
      "source": [
        "Exercício 12 - Tendo como dados de entrada a altura de uma pessoa, construa um algoritmo que calcule seu peso ideal, usando a seguinte fórmula: (72.7*altura) - 58\n"
      ],
      "metadata": {
        "id": "mxB8TC2wgn1H"
      }
    },
    {
      "cell_type": "code",
      "source": [
        "n_alt = float(input ('Digite sua altura em metros '))\n",
        "peso_ideal = (72.7*n_alt)-58\n",
        "print(f'O peso ideal é {peso_ideal}') "
      ],
      "metadata": {
        "colab": {
          "base_uri": "https://localhost:8080/"
        },
        "id": "kMyUoGP1guTF",
        "outputId": "a82e642b-a46c-4c86-fc51-a2b82b8c4e3c"
      },
      "execution_count": null,
      "outputs": [
        {
          "output_type": "stream",
          "name": "stdout",
          "text": [
            "Digite sua altura em metros 1.86\n",
            "O peso ideal é 77.22200000000001\n"
          ]
        }
      ]
    },
    {
      "cell_type": "markdown",
      "source": [
        "Exercício 13 - Tendo como dado de entrada a altura (h) de uma pessoa, construa um algoritmo que calcule seu peso ideal, utilizando as seguintes fórmulas:\n",
        "* Para homens: (72.7*h) - 58\n",
        "* Para mulheres: (62.1*h) - 44.7"
      ],
      "metadata": {
        "id": "eF5sGxiXh6Z0"
      }
    },
    {
      "cell_type": "code",
      "source": [
        "sexo = (input('Qual seu sexo? Digite H ou M: '))\n",
        "if sexo.upper() == 'H': \n",
        "    n_alt = float(input ('Digite sua altura em metros '))\n",
        "    peso_ideal_homem = (72.7*n_alt)-58\n",
        "    print(f'O peso ideal é {peso_ideal_homem}') \n",
        "\n",
        "\n",
        "elif sexo.upper() == 'M': \n",
        "    n_alt = float(input ('Digite sua altura em metros '))\n",
        "    peso_ideal_mulher = (62.1*n_alt)-44.7\n",
        "    print(f'O peso ideal é {peso_ideal_mulher}')\n",
        "else:\n",
        "  print('Se vc não é homem e nem mulher..então q vc é?!') \n",
        "\n"
      ],
      "metadata": {
        "colab": {
          "base_uri": "https://localhost:8080/"
        },
        "id": "RDp5VGBfiKEd",
        "outputId": "5d4a9cd7-ed1b-4e11-c749-202336ab3e79"
      },
      "execution_count": null,
      "outputs": [
        {
          "output_type": "stream",
          "name": "stdout",
          "text": [
            "Qual seu sexo? Digite H ou M: m\n",
            "Digite sua altura em metros 1.56\n",
            "O peso ideal é 52.176\n"
          ]
        }
      ]
    },
    {
      "cell_type": "markdown",
      "source": [
        "Exercício 14 - João Papo-de-Pescador, homem de bem, comprou um microcomputador para controlar o rendimento diário de seu trabalho. Toda vez que ele traz um peso de peixes maior que o estabelecido pelo regulamento de pesca do estado de São Paulo (50 quilos) deve pagar uma multa de R$ 4,00 por quilo excedente. João precisa que você faça um programa que leia a variável peso (peso de peixes) e calcule o excesso. Gravar na variável excesso a quantidade de quilos além do limite e na variável multa o valor da multa que João deverá pagar. Imprima os dados do programa com as mensagens adequadas."
      ],
      "metadata": {
        "id": "Y7NJgj2wmTlq"
      }
    },
    {
      "cell_type": "code",
      "source": [
        "peso_peixe = float(input('Qual o peso do peixe? '))\n",
        "excesso = -50 + peso_peixe\n",
        "multa = excesso*4\n",
        "\n",
        "if peso_peixe >50:\n",
        "  excesso\n",
        "  multa\n",
        "  print(f'Peso além do limite permitido, o excesso foi de {excesso} kg e a multa correspondente será de R${multa} reais.')\n",
        "elif peso_peixe <= 50:\n",
        "  print(f'Peso do peixe dentro do regulamento de pesca')"
      ],
      "metadata": {
        "colab": {
          "base_uri": "https://localhost:8080/"
        },
        "id": "7yq2gctHYCGj",
        "outputId": "42e2e3c3-e2e6-46ef-b6b5-14e79c80bd92"
      },
      "execution_count": null,
      "outputs": [
        {
          "output_type": "stream",
          "name": "stdout",
          "text": [
            "Qual o peso do peixe? 51\n",
            "Peso além do limite permitido, o excesso foi de 1.0 kg e a multa correspondente será de R$4.0 reais.\n"
          ]
        }
      ]
    },
    {
      "cell_type": "markdown",
      "source": [
        "Exercício 15 - Faça um Programa que pergunte quanto você ganha por hora e o número de horas trabalhadas no mês. Calcule e mostre o total do seu salário no referido mês, sabendo-se que são descontados 11% para o Imposto de Renda, 8% para o INSS e 5% para o sindicato, faça um programa que nos dê:\n",
        "* salário bruto.\n",
        "* quanto pagou ao INSS.\n",
        "* quanto pagou ao sindicato.\n",
        "* o salário líquido.\n",
        "* calcule os descontos e o salário líquido, conforme a tabela abaixo:\n",
        "\n",
        "\n",
        "\n",
        "![imagem_2022-04-04_091227.png](data:image/png;base64,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)\n",
        "\n",
        "Obs.: Salário Bruto - Descontos = Salário Líquido."
      ],
      "metadata": {
        "id": "oGZ_cC2TfLyQ"
      }
    },
    {
      "cell_type": "code",
      "source": [
        "qtd_hora_remu = float(input('Quanto vc ganhar por hora trabalhada ? '))\n",
        "qtd_horas_trab = float(input('Quantas horas vc trabalha por mês? '))\n",
        "\n",
        "salario_bruto = float ((qtd_hora_remu*qtd_horas_trab))\n",
        "ir = salario_bruto*.11\n",
        "inss = salario_bruto*.09\n",
        "sindicato = salario_bruto*.05\n",
        "descontos = ir + inss + sindicato\n",
        "salario_liquido = salario_bruto - descontos\n",
        "print (f'O seu salário bruto no referido mês é de R${salario_bruto} reais. OBS.: sem os devidos descontos que incidem sobre.')\n",
        "print (f'De IR você pagará R${ir} reais sobre seu vencimento.')\n",
        "print (f'De INSS você pagará R${inss} reais sobre seu vencimento.')\n",
        "print (f'De Sindicato você pagará R${sindicato} reais sobre seu vencimento.')\n",
        "print (f'Seu salário líquido será, após descontos de R${salario_liquido} reais.')"
      ],
      "metadata": {
        "colab": {
          "base_uri": "https://localhost:8080/"
        },
        "id": "gl_Oq7ljfs0M",
        "outputId": "70f14753-47bb-4b1f-b9fd-7f8184c7e8ad"
      },
      "execution_count": null,
      "outputs": [
        {
          "output_type": "stream",
          "name": "stdout",
          "text": [
            "Quanto vc ganhar por hora trabalhada ? 10\n",
            "Quantas horas vc trabalha por mês? 10\n",
            "O seu salário bruto no referido mês é de R$100.0 reais. OBS.: sem os devidos descontos que incidem sobre.\n",
            "De IR você pagará R$11.0 reais sobre seu vencimento.\n",
            "De INSS você pagará R$9.0 reais sobre seu vencimento.\n",
            "De Sindicato você pagará R$5.0 reais sobre seu vencimento.\n",
            "Seu salário líquido será, após descontos de R$75.0 reais.\n"
          ]
        }
      ]
    },
    {
      "cell_type": "markdown",
      "source": [
        "Exercício 16 - Faça um programa para uma loja de tintas. O programa deverá pedir o tamanho em metros quadrados da área a ser pintada. Considere que a cobertura da tinta é de 1 litro para cada 3 metros quadrados e que a tinta é vendida em latas de 18 litros, que custam R$ 80,00. Informe ao usuário a quantidades de latas de tinta a serem compradas e o preço total."
      ],
      "metadata": {
        "id": "vVLTE2qtjQuj"
      }
    },
    {
      "cell_type": "code",
      "source": [
        "import math\n",
        "area_conhecida = float(input('Qual a ára a ser pintada? '))\n",
        "rendimento_lata = 54 #m². Considerando o rendimento de 1 litro de tinta para cada 3m²\n",
        "qtd_latas18 = math.ceil(area_conhecida/rendimento_lata)\n",
        "valor_a_pagar = 80*qtd_latas18\n",
        "print(f'Olá, a quantidade para uma área conhecida de {area_conhecida} será de {qtd_latas18} lata(s) de 18 litros e o valor total a ser pago será de R${valor_a_pagar} reais pela(s) lata(s)')\n"
      ],
      "metadata": {
        "colab": {
          "base_uri": "https://localhost:8080/"
        },
        "id": "TJORzGL2jYmy",
        "outputId": "9c684e36-75d4-4a87-9844-35ea144b94e5"
      },
      "execution_count": null,
      "outputs": [
        {
          "output_type": "stream",
          "name": "stdout",
          "text": [
            "Qual a ára a ser pintada? 108\n",
            "Olá, a quantidade para uma área conhecida de 108.0 será de 2 lata(s) de 18 litros e o valor total a ser pago será de R$160 reais pela(s) lata(s)\n"
          ]
        }
      ]
    },
    {
      "cell_type": "markdown",
      "source": [
        "Exercício 17 - Faça um Programa para uma loja de tintas. O programa deverá pedir o tamanho em metros quadrados da área a ser pintada. \n",
        "Considere que:\n",
        "* A cobertura da tinta é de 1 litro para cada 6 metros quadrados \n",
        "* A tinta é vendida em latas de 18 litros que custam R$ 80,00 \n",
        "\n",
        "*   Galões de 3,6 litros que custam R$ 25.00.\n",
        "\n",
        "Misturar latas e galões, de forma que o desperdício de tinta seja menor. Acrescente 10% de folga e sempre arredonde os valores para cima, isto é, considere latas cheias."
      ],
      "metadata": {
        "id": "YdI2hLTunbJK"
      }
    },
    {
      "cell_type": "code",
      "source": [
        "import math\n",
        "nome = str(input('Digite seu nome: '))\n",
        "area_a_ser_pintada = float(input('Digite a área que será coberta: '))*1.1\n",
        "rendimeto_tinta= 6\n",
        "litros_necessarios = area_a_ser_pintada / rendimeto_tinta\n",
        "\n",
        "litros_lata18 = 18\n",
        "n_latas18 = math.ceil(litros_necessarios/litros_lata18)\n",
        "val_tot_lata_18 = n_latas18*80\n",
        "print(f'Olá {nome}, você precisará para a área informada de {n_latas18} latas de 18 litros e o valor total será de R${val_tot_lata_18} reais')\n",
        "\n",
        "litros_galao3 = 3.6\n",
        "n_galoes3 = math.ceil(litros_necessarios/litros_galao3)\n",
        "val_tot_galao_3 = n_galoes3*25\n",
        "print(f'Olá {nome}, você precisará para a área informada de {n_galoes3} galões de 3.6 litros e o valor total será de R${val_tot_galao_3} reais')\n",
        "\n",
        "n_lata18 = math.floor(litros_necessarios/litros_lata18)\n",
        "val_lata18 = n_lata18*80\n",
        "litros_faltantes= litros_necessarios % litros_lata18\n",
        "n_galao3 = math.ceil(litros_faltantes/litros_galao3)\n",
        "val_galao3 = n_galao3*25\n",
        "val_tot_lata_e_galao = val_lata18 + val_galao3\n",
        "print(f'Olá {nome}, você precisará para a área informada de {n_lata18} latas de 18 litros e de {n_galao3} galões de 3.6 litros e o valor total será de R${val_tot_lata_e_galao} reais')"
      ],
      "metadata": {
        "colab": {
          "base_uri": "https://localhost:8080/"
        },
        "id": "R8QcPTMmptMh",
        "outputId": "f7f1472d-a0dd-48de-9412-0c5f6de738fe"
      },
      "execution_count": null,
      "outputs": [
        {
          "output_type": "stream",
          "name": "stdout",
          "text": [
            "Digite seu nome: Caio\n",
            "Digite a área que será coberta: 350\n",
            "Olá Caio, você precisará para a área informada de 4 latas de 18 litros e o valor total será de R$320 reais\n",
            "Olá Caio, você precisará para a área informada de 18 galões de 3.6 litros e o valor total será de R$450 reais\n",
            "Olá Caio, você precisará para a área informada de 3 latas de 18 litros e de 3 galões de 3.6 litros e o valor total será de R$315 reais\n"
          ]
        }
      ]
    },
    {
      "cell_type": "markdown",
      "source": [
        "Exercício 18 - Faça um programa que peça o tamanho de um arquivo para download (em MB) e a velocidade de um link de Internet (em Mbps), calcule e informe o tempo aproximado de download do arquivo usando este link (em minutos).\n"
      ],
      "metadata": {
        "id": "WQHw1vecEqkv"
      }
    },
    {
      "cell_type": "code",
      "source": [
        "import math\n",
        "tamArquivo = float(input('Qual o tamanho do arquivo para donwload? Em MB: '))\n",
        "velInternet = float(input('Qual a velocidade da internet? Em Mbps: '))\n",
        "temp_downl = math.ceil((tamArquivo/velInternet)/60)\n",
        "print(f'Olá, o tempo de download é de aproximadamente {temp_downl} minutos')"
      ],
      "metadata": {
        "colab": {
          "base_uri": "https://localhost:8080/"
        },
        "id": "XCSOA7LjpEqg",
        "outputId": "2b7c7c34-8be7-4420-b164-441afcec9a9b"
      },
      "execution_count": null,
      "outputs": [
        {
          "output_type": "stream",
          "name": "stdout",
          "text": [
            "Qual o tamanho do arquivo para donwload? Em MB: 300\n",
            "Qual a velocidade da internet? Em Mbps: 1\n",
            "Olá, o tempo de download é de aproximadamente 5 minutos\n"
          ]
        }
      ]
    },
    {
      "cell_type": "markdown",
      "source": [
        "# [Estrutura De Decisão](https://wiki.python.org.br/EstruturaDeDecisao)"
      ],
      "metadata": {
        "id": "cz_usNBsRKyU"
      }
    },
    {
      "cell_type": "code",
      "source": [
        ""
      ],
      "metadata": {
        "id": "Wv7bCSbCRT35"
      },
      "execution_count": null,
      "outputs": []
    },
    {
      "cell_type": "markdown",
      "source": [
        "Exercício 1 - Faça um Programa que peça dois números e imprima o maior deles."
      ],
      "metadata": {
        "id": "j45x1SqgRXzk"
      }
    },
    {
      "cell_type": "code",
      "source": [
        "numero1= int(input('Digite o primeiro número: ' ))\n",
        "numero2= int(input('Digite o segundo número: ' ))\n",
        "\n",
        "if numero1>numero2:\n",
        "  print(f'O primeiro número \"{numero1}\" é maior que o segundo informado \"{numero2}\".')\n",
        "elif numero1<numero2:\n",
        "  print(f'O primeiro número \"{numero1}\" é menor que o segundo informado \"{numero2}\".')\n",
        "else:\n",
        "  print('Os números são iguais.')"
      ],
      "metadata": {
        "colab": {
          "base_uri": "https://localhost:8080/"
        },
        "id": "Q9ANh41CRcx_",
        "outputId": "52fa3ea3-c8e8-44ba-d5de-9a3af3fe3dbd"
      },
      "execution_count": 3,
      "outputs": [
        {
          "output_type": "stream",
          "name": "stdout",
          "text": [
            "Digite o primeiro número: 10\n",
            "Digite o segundo número: 10\n",
            "Os números são iguais.\n"
          ]
        }
      ]
    },
    {
      "cell_type": "markdown",
      "source": [
        "Exercício 3 - Faça um Programa que peça um valor e mostre na tela se o valor é positivo ou negativo."
      ],
      "metadata": {
        "id": "-07wdjt7ui-6"
      }
    },
    {
      "cell_type": "code",
      "source": [
        "numero1= int(input('Digite um número: ' ))\n",
        "if numero1>=0:\n",
        "  print('O número é positivo')\n",
        "else:\n",
        "  print('O número é negativo.')"
      ],
      "metadata": {
        "colab": {
          "base_uri": "https://localhost:8080/"
        },
        "id": "EYFicgZfulpn",
        "outputId": "47b4c394-cd63-4205-e8f1-4803865ebff5"
      },
      "execution_count": 6,
      "outputs": [
        {
          "output_type": "stream",
          "name": "stdout",
          "text": [
            "Digite um número: 0\n",
            "O número é positivo\n"
          ]
        }
      ]
    },
    {
      "cell_type": "markdown",
      "source": [
        "Exercício 4 - Faça um Programa que verifique se uma letra digitada é \"F\" ou \"M\". Conforme a letra escrever: F - Feminino, M - Masculino, Sexo Inválido."
      ],
      "metadata": {
        "id": "cJMfe0Yvvesf"
      }
    },
    {
      "cell_type": "code",
      "source": [
        "sexo = input('Digite o seu sexo. M para masculino, F para feminino e I para indefinido: ').upper()\n",
        "if sexo=='M':\n",
        "  print('Masculino')\n",
        "elif sexo =='F':\n",
        "  print('Feminino')\n",
        "elif sexo == 'I':\n",
        "  print('Indefinido')\n",
        "else:\n",
        "  print('Sexo inválido')"
      ],
      "metadata": {
        "colab": {
          "base_uri": "https://localhost:8080/"
        },
        "id": "cXPifqodwb3d",
        "outputId": "630dcae7-93fc-4003-cefc-d8469b969146"
      },
      "execution_count": 8,
      "outputs": [
        {
          "output_type": "stream",
          "name": "stdout",
          "text": [
            "Digite o seu sexo. M para masculino, F para feminino e I para indefinido: i\n",
            "Indefinido\n"
          ]
        }
      ]
    },
    {
      "cell_type": "markdown",
      "source": [
        "Exercício 5 - Faça um programa para a leitura de duas notas parciais de um aluno. O programa deve calcular a média alcançada por aluno e apresentar:\n",
        "\n",
        "* A mensagem \"Aprovado\", se a média alcançada for maior ou igual a sete;\n",
        "* A mensagem \"Reprovado\", se a média for menor do que sete;\n",
        "* A mensagem \"Aprovado com Distinção\", se a média for igual a dez."
      ],
      "metadata": {
        "id": "Gct--WLizrHI"
      }
    },
    {
      "cell_type": "code",
      "source": [
        "np1 = float(input('Digite a primeira nota: '))\n",
        "np2 = float(input('Digite a segunda nota: '))\n",
        "media = (np1 + np2)/2\n",
        "\n",
        "if media == 10:\n",
        "  print('Aprovado com Distinção6')\n",
        "elif media < 7:\n",
        "  print('Reprovado')\n",
        "elif media >= 7:\n",
        "  print('Aprovado')\n"
      ],
      "metadata": {
        "colab": {
          "base_uri": "https://localhost:8080/"
        },
        "id": "-Q3bVD8fzzWd",
        "outputId": "bc8d3a22-82b1-4064-fb73-0287c5b1b732"
      },
      "execution_count": 17,
      "outputs": [
        {
          "output_type": "stream",
          "name": "stdout",
          "text": [
            "Digite a primeira nota: 9.5\n",
            "Digite a segunda nota: 9.9\n",
            "Aprovado\n"
          ]
        }
      ]
    }
  ]
}